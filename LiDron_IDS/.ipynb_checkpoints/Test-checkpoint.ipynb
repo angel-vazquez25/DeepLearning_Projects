{
 "cells": [
  {
   "cell_type": "code",
   "execution_count": 1,
   "metadata": {
    "collapsed": true
   },
   "outputs": [],
   "source": [
    "import pandas as pd"
   ]
  },
  {
   "cell_type": "code",
   "execution_count": 6,
   "metadata": {},
   "outputs": [
    {
     "name": "stdout",
     "output_type": "stream",
     "text": [
      "<class 'pandas.core.frame.DataFrame'>\n",
      "RangeIndex: 22544 entries, 0 to 22543\n",
      "Data columns (total 42 columns):\n",
      " #   Column                         Non-Null Count  Dtype  \n",
      "---  ------                         --------------  -----  \n",
      " 0   'duration'                     22544 non-null  int64  \n",
      " 1   'protocol_type'                22544 non-null  object \n",
      " 2   'service'                      22544 non-null  object \n",
      " 3   'flag'                         22544 non-null  object \n",
      " 4   'src_bytes'                    22544 non-null  int64  \n",
      " 5   'dst_bytes'                    22544 non-null  int64  \n",
      " 6   'land'                         22544 non-null  int64  \n",
      " 7   'wrong_fragment'               22544 non-null  int64  \n",
      " 8   'urgent'                       22544 non-null  int64  \n",
      " 9   'hot'                          22544 non-null  int64  \n",
      " 10  'num_failed_logins'            22544 non-null  int64  \n",
      " 11  'logged_in'                    22544 non-null  int64  \n",
      " 12  'num_compromised'              22544 non-null  int64  \n",
      " 13  'root_shell'                   22544 non-null  int64  \n",
      " 14  'su_attempted'                 22544 non-null  int64  \n",
      " 15  'num_root'                     22544 non-null  int64  \n",
      " 16  'num_file_creations'           22544 non-null  int64  \n",
      " 17  'num_shells'                   22544 non-null  int64  \n",
      " 18  'num_access_files'             22544 non-null  int64  \n",
      " 19  'num_outbound_cmds'            22544 non-null  int64  \n",
      " 20  'is_host_login'                22544 non-null  int64  \n",
      " 21  'is_guest_login'               22544 non-null  int64  \n",
      " 22  'count'                        22544 non-null  int64  \n",
      " 23  'srv_count'                    22544 non-null  int64  \n",
      " 24  'serror_rate'                  22544 non-null  float64\n",
      " 25  'srv_serror_rate'              22544 non-null  float64\n",
      " 26  'rerror_rate'                  22544 non-null  float64\n",
      " 27  'srv_rerror_rate'              22544 non-null  float64\n",
      " 28  'same_srv_rate'                22544 non-null  float64\n",
      " 29  'diff_srv_rate'                22544 non-null  float64\n",
      " 30  'srv_diff_host_rate'           22544 non-null  float64\n",
      " 31  'dst_host_count'               22544 non-null  int64  \n",
      " 32  'dst_host_srv_count'           22544 non-null  int64  \n",
      " 33  'dst_host_same_srv_rate'       22544 non-null  float64\n",
      " 34  'dst_host_diff_srv_rate'       22544 non-null  float64\n",
      " 35  'dst_host_same_src_port_rate'  22544 non-null  float64\n",
      " 36  'dst_host_srv_diff_host_rate'  22544 non-null  float64\n",
      " 37  'dst_host_serror_rate'         22544 non-null  float64\n",
      " 38  'dst_host_srv_serror_rate'     22544 non-null  float64\n",
      " 39  'dst_host_rerror_rate'         22544 non-null  float64\n",
      " 40  'dst_host_srv_rerror_rate'     22544 non-null  float64\n",
      " 41  'class'                        22544 non-null  object \n",
      "dtypes: float64(15), int64(23), object(4)\n",
      "memory usage: 7.2+ MB\n",
      "None\n"
     ]
    }
   ],
   "source": [
    "dataset = pd.read_csv(\"nsl-kdd/KDDTest+.csv\")\n",
    "print(dataset.info())"
   ]
  },
  {
   "cell_type": "code",
   "execution_count": null,
   "metadata": {},
   "outputs": [],
   "source": []
  }
 ],
 "metadata": {
  "kernelspec": {
   "display_name": "Python 3 (ipykernel)",
   "language": "python",
   "name": "python3"
  },
  "language_info": {
   "codemirror_mode": {
    "name": "ipython",
    "version": 3
   },
   "file_extension": ".py",
   "mimetype": "text/x-python",
   "name": "python",
   "nbconvert_exporter": "python",
   "pygments_lexer": "ipython3",
   "version": "3.9.16"
  }
 },
 "nbformat": 4,
 "nbformat_minor": 1
}
